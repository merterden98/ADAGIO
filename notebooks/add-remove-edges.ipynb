{
 "cells": [
  {
   "cell_type": "code",
   "execution_count": 33,
   "metadata": {},
   "outputs": [],
   "source": [
    "from t_map.feta.glide import Glider\n",
    "from t_map.utils.genedise_utils import run_genedise, load_graph\n",
    "from t_map.garbanzo.transforms.tissue_reweight import reweight_graph_by_tissue\n",
    "import networkx as nx\n",
    "from t_map.garbanzo.networkx import Networkx\n",
    "\n",
    "config = {\n",
    "\t\"alpha\": 0.85,\n",
    "\t\"k\": 20,\n",
    "}\n",
    "tissue_path = \"is_brain_renamed.tsv\"\n",
    "def getter(line : str):\n",
    "        ensemble_id, tissue = line.split(\"\\t\")\n",
    "        return \"9606.\" + ensemble_id, int(tissue.removesuffix(\"\\n\"))\n",
    "\n",
    "genes = []\n",
    "with open(tissue_path, \"r\") as f:\n",
    "        for line in f:\n",
    "                ensemble_id, is_expressed = getter(line)\n",
    "                genes.append((ensemble_id, is_expressed))\n",
    "                \n",
    "                \n",
    "#graph = load_graph(\"../data/cleaned_graph.csv\")\n",
    "#tissue_graph = reweight_graph_by_tissue(graph, tissue_path, getter=getter)\n",
    "# model = Glider()\n",
    "# model.setup(graph)\n"
   ]
  },
  {
   "cell_type": "code",
   "execution_count": 34,
   "metadata": {},
   "outputs": [
    {
     "data": {
      "text/plain": [
       "('ENSP00000362111', 1)"
      ]
     },
     "execution_count": 34,
     "metadata": {},
     "output_type": "execute_result"
    }
   ],
   "source": [
    "genes[0]"
   ]
  },
  {
   "cell_type": "code",
   "execution_count": 1,
   "metadata": {},
   "outputs": [
    {
     "ename": "NameError",
     "evalue": "name 'model' is not defined",
     "output_type": "error",
     "traceback": [
      "\u001b[0;31m---------------------------------------------------------------------------\u001b[0m",
      "\u001b[0;31mNameError\u001b[0m                                 Traceback (most recent call last)",
      "\u001b[1;32m/Users/merden/Research/TMAP/notebooks/add-remove-edges.ipynb Cell 1'\u001b[0m in \u001b[0;36m<module>\u001b[0;34m\u001b[0m\n\u001b[1;32m      <a href='vscode-notebook-cell:/Users/merden/Research/TMAP/notebooks/add-remove-edges.ipynb#ch0000000?line=1'>2</a>\u001b[0m \u001b[39mfor\u001b[39;00m i \u001b[39min\u001b[39;00m \u001b[39mrange\u001b[39m(\u001b[39m0\u001b[39m, \u001b[39m50\u001b[39m, \u001b[39m5\u001b[39m):\n\u001b[1;32m      <a href='vscode-notebook-cell:/Users/merden/Research/TMAP/notebooks/add-remove-edges.ipynb#ch0000000?line=2'>3</a>\u001b[0m     \u001b[39mfor\u001b[39;00m j \u001b[39min\u001b[39;00m \u001b[39mrange\u001b[39m(\u001b[39m0\u001b[39m, \u001b[39m50\u001b[39m, \u001b[39m5\u001b[39m):\n\u001b[0;32m----> <a href='vscode-notebook-cell:/Users/merden/Research/TMAP/notebooks/add-remove-edges.ipynb#ch0000000?line=3'>4</a>\u001b[0m         \u001b[39mwith\u001b[39;00m Glider\u001b[39m.\u001b[39mwith_reset(model) \u001b[39mas\u001b[39;00m m:\n\u001b[1;32m      <a href='vscode-notebook-cell:/Users/merden/Research/TMAP/notebooks/add-remove-edges.ipynb#ch0000000?line=4'>5</a>\u001b[0m             m\u001b[39m.\u001b[39madd_new_edges(i \u001b[39m/\u001b[39m \u001b[39m100\u001b[39m, in_place\u001b[39m=\u001b[39m\u001b[39mTrue\u001b[39;00m)\n\u001b[1;32m      <a href='vscode-notebook-cell:/Users/merden/Research/TMAP/notebooks/add-remove-edges.ipynb#ch0000000?line=5'>6</a>\u001b[0m             m\u001b[39m.\u001b[39mremove_old_edges(j \u001b[39m/\u001b[39m \u001b[39m100\u001b[39m, in_place\u001b[39m=\u001b[39m\u001b[39mTrue\u001b[39;00m)\n",
      "\u001b[0;31mNameError\u001b[0m: name 'model' is not defined"
     ]
    }
   ],
   "source": [
    "from t_map.feta.glide import Glider\n",
    "for i in range(0, 50, 5):\n",
    "    for j in range(0, 50, 5):\n",
    "        with Glider.with_reset(model) as m:\n",
    "            m.add_new_edges(i / 100, in_place=True)\n",
    "            m.remove_old_edges(j / 100, in_place=True)\n",
    "            run_genedise(\"../data/cleaned_graph.csv\", \"../genedise_experiments/splits\", f\"./outputs/add_{i / 100}_remove_{j / 100}\", m)\n"
   ]
  },
  {
   "cell_type": "code",
   "execution_count": 11,
   "metadata": {},
   "outputs": [
    {
     "data": {
      "text/plain": [
       "52548"
      ]
     },
     "execution_count": 11,
     "metadata": {},
     "output_type": "execute_result"
    }
   ],
   "source": [
    "#len(model.graph.edges)\n",
    "len(graph.graph.edges)"
   ]
  }
 ],
 "metadata": {
  "interpreter": {
   "hash": "5c2c48bb47a31bd4ca26dca55a42bf061b72e822d83e4b7cdfe9540ed977012c"
  },
  "kernelspec": {
   "display_name": "Python 3.9.5 64-bit ('tmap': conda)",
   "language": "python",
   "name": "python3"
  },
  "language_info": {
   "codemirror_mode": {
    "name": "ipython",
    "version": 3
   },
   "file_extension": ".py",
   "mimetype": "text/x-python",
   "name": "python",
   "nbconvert_exporter": "python",
   "pygments_lexer": "ipython3",
   "version": "3.9.5"
  },
  "orig_nbformat": 4
 },
 "nbformat": 4,
 "nbformat_minor": 2
}
