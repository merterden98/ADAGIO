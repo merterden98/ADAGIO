{
 "cells": [
  {
   "cell_type": "code",
   "execution_count": 1,
   "metadata": {
    "tags": []
   },
   "outputs": [
    {
     "output_type": "stream",
     "name": "stderr",
     "text": [
      "Failed to detect the name of this notebook, you can set it manually with the WANDB_NOTEBOOK_NAME environment variable to enable code saving.\n",
      "\u001b[34m\u001b[1mwandb\u001b[0m: Currently logged in as: \u001b[33mmsidho01\u001b[0m (use `wandb login --relogin` to force relogin)\n",
      "/Users/ibrahimsidhom/opt/miniconda3/envs/tmap/lib/python3.9/site-packages/IPython/html.py:12: ShimWarning: The `IPython.html` package has been deprecated since IPython 4.0. You should import from `notebook` instead. `IPython.html.widgets` has moved to `ipywidgets`.\n",
      "  warn(\"The `IPython.html` package has been deprecated since IPython 4.0. \"\n"
     ]
    },
    {
     "output_type": "display_data",
     "data": {
      "text/plain": "<IPython.core.display.HTML object>",
      "text/html": "\n                Tracking run with wandb version 0.10.33<br/>\n                Syncing run <strong style=\"color:#cdcd00\">logical-firefly-2</strong> to <a href=\"https://wandb.ai\" target=\"_blank\">Weights & Biases</a> <a href=\"https://docs.wandb.com/integrations/jupyter.html\" target=\"_blank\">(Documentation)</a>.<br/>\n                Project page: <a href=\"https://wandb.ai/networks/gene_prioritization\" target=\"_blank\">https://wandb.ai/networks/gene_prioritization</a><br/>\n                Run page: <a href=\"https://wandb.ai/networks/gene_prioritization/runs/1x9zoglt\" target=\"_blank\">https://wandb.ai/networks/gene_prioritization/runs/1x9zoglt</a><br/>\n                Run data is saved locally in <code>/Users/ibrahimsidhom/2021_research/tmap/notebooks/wandb/run-20210713_113308-1x9zoglt</code><br/><br/>\n            "
     },
     "metadata": {}
    }
   ],
   "source": [
    "from t_map.garbanzo.huri import Huri\n",
    "from t_map.hummus.hummus import Hummus\n",
    "from t_map.hummus.hummus_score import HummusScore, ScoreTypes\n",
    "from t_map.feta.randomwalk import RandomWalkWithRestart, PreComputeRWR\n",
    "import wandb\n",
    "\n",
    "\n",
    "config = {\n",
    "    \"alpha\": 0.35,\n",
    "    \"k\": 500,\n",
    "}\n",
    "\n",
    "wandb.init(entity=\"networks\", project=\"gene_prioritization\", config = config)\n",
    "\n",
    "data = Huri(\"../data/alzheimers\", with_hugo = True, download_path=\"./\")\n",
    "# print(data.graph.nodes)\n",
    "scoring = HummusScore(score_type=ScoreTypes.TOP_K, k=config[\"k\"])\n",
    "runner = Hummus(data, with_scoring=scoring)\n",
    "# model = RandomWalkWithRestart(alpha = config[\"alpha\"])\n",
    "model = PreComputeRWR(alpha = config[\"alpha\"])\n",
    "model.setup(data.graph)"
   ]
  },
  {
   "cell_type": "code",
   "execution_count": 2,
   "metadata": {
    "tags": []
   },
   "outputs": [
    {
     "output_type": "display_data",
     "data": {
      "text/plain": "<wandb.jupyter.Run at 0x7f9dc8482d30>",
      "text/html": "<iframe src=\"https://wandb.ai/networks/gene_prioritization/runs/1x9zoglt?jupyter=true\" style=\"border:none;width:100%;height:420px\">\n                </iframe>"
     },
     "metadata": {}
    },
    {
     "output_type": "stream",
     "name": "stdout",
     "text": [
      "{'k': 500, 'score': [0.0, 0.0, 0.0, 0.0, 0.0, 0.0, 0.0, 0.0, 0.0, 0.0, 0.0, 0.0, 0.0, 0.0, 0.0, 0.0, 0.0, 0.0, 1.0, 0.0, 0.0, 0.0, 0.0, 0.0, 0.0, 0.0, 0.0, 0.0, 0.0, 0.0, 0.0, 0.0, 0.0, 0.0], 'avg_score': 0.029411764705882353}\n"
     ]
    }
   ],
   "source": [
    "%%wandb\n",
    "\n",
    "for test_runner in runner.with_cv(\"LOO\"):\n",
    "\twith test_runner as (disease_genes, graph, fn):\n",
    "\t\tpredictions = model(disease_genes, graph)\n",
    "\t\t# print(predictions)\n",
    "\t\tfn(predictions)\n",
    "\t\t\n",
    "print(scoring.testing_summary())\n",
    "wandb.log(scoring.testing_summary())\n",
    "\n",
    "\n"
   ]
  },
  {
   "cell_type": "code",
   "execution_count": null,
   "metadata": {},
   "outputs": [],
   "source": []
  }
 ],
 "metadata": {
  "interpreter": {
   "hash": "417f5e5ea2cd51ce4bffcd7de8d17c1fde928caced1d14fda8c653e2127aec2c"
  },
  "kernelspec": {
   "name": "python395jvsc74a57bd085c09f9f7fe78075207fbfc843a7e69e47817615a41a056623d34385f36bfb54",
   "display_name": "Python 3.9.5 64-bit ('tmap': conda)"
  },
  "language_info": {
   "codemirror_mode": {
    "name": "ipython",
    "version": 3
   },
   "file_extension": ".py",
   "mimetype": "text/x-python",
   "name": "python",
   "nbconvert_exporter": "python",
   "pygments_lexer": "ipython3",
   "version": "3.9.5"
  },
  "orig_nbformat": 4,
  "metadata": {
   "interpreter": {
    "hash": "85c09f9f7fe78075207fbfc843a7e69e47817615a41a056623d34385f36bfb54"
   }
  }
 },
 "nbformat": 4,
 "nbformat_minor": 2
}