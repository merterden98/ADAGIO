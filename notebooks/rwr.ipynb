{
 "cells": [
  {
   "cell_type": "code",
   "execution_count": 9,
   "metadata": {},
   "outputs": [
    {
     "output_type": "execute_result",
     "data": {
      "text/plain": [
       "matrix([[8.50868058e-01, 8.00425848e-03, 7.99404896e-03, ...,\n",
       "         0.00000000e+00, 3.87465129e-10, 3.87465129e-10],\n",
       "        [5.82127889e-03, 8.52290135e-01, 1.04423005e-04, ...,\n",
       "         0.00000000e+00, 5.46831744e-10, 5.46831744e-10],\n",
       "        [2.90692690e-03, 5.22115026e-05, 8.51274505e-01, ...,\n",
       "         0.00000000e+00, 1.06132764e-09, 1.06132764e-09],\n",
       "        ...,\n",
       "        [0.00000000e+00, 0.00000000e+00, 0.00000000e+00, ...,\n",
       "         1.00000000e+00, 0.00000000e+00, 0.00000000e+00],\n",
       "        [6.19944206e-09, 1.20302984e-08, 4.66984159e-08, ...,\n",
       "         0.00000000e+00, 8.50640495e-01, 6.40495254e-04],\n",
       "        [6.19944206e-09, 1.20302984e-08, 4.66984159e-08, ...,\n",
       "         0.00000000e+00, 6.40495254e-04, 8.50640495e-01]])"
      ]
     },
     "metadata": {},
     "execution_count": 9
    }
   ],
   "source": [
    "from t_map.garbanzo.huri import Huri\n",
    "from t_map.hummus.hummus import Hummus\n",
    "from t_map.hummus.hummus_score import HummusScore, ScoreTypes\n",
    "from t_map.feta.randomwalk import RandomWalkWithRestart, PreComputeRWR\n",
    "\n",
    "data = Huri(\"../data/alzheimers\")\n",
    "scoring = HummusScore(score_type=ScoreTypes.TOP_K, k=20)\n",
    "runner = Hummus(data, with_scoring=scoring)\n",
    "# model = RandomWalkWithRestart()\n",
    "model = PreComputeRWR()\n",
    "model.setup(data.graph)"
   ]
  },
  {
   "cell_type": "code",
   "execution_count": 10,
   "metadata": {},
   "outputs": [
    {
     "output_type": "error",
     "ename": "ZeroDivisionError",
     "evalue": "division by zero",
     "traceback": [
      "\u001b[0;31m---------------------------------------------------------------------------\u001b[0m",
      "\u001b[0;31mZeroDivisionError\u001b[0m                         Traceback (most recent call last)",
      "\u001b[0;32m/var/folders/jh/hhjh1tq131s_pqx_jdctg8vw0000gp/T/ipykernel_56795/345367360.py\u001b[0m in \u001b[0;36m<module>\u001b[0;34m\u001b[0m\n\u001b[1;32m      4\u001b[0m                 \u001b[0mfn\u001b[0m\u001b[0;34m(\u001b[0m\u001b[0mpredictions\u001b[0m\u001b[0;34m)\u001b[0m\u001b[0;34m\u001b[0m\u001b[0;34m\u001b[0m\u001b[0m\n\u001b[1;32m      5\u001b[0m \u001b[0;34m\u001b[0m\u001b[0m\n\u001b[0;32m----> 6\u001b[0;31m \u001b[0mprint\u001b[0m\u001b[0;34m(\u001b[0m\u001b[0mscoring\u001b[0m\u001b[0;34m.\u001b[0m\u001b[0mtesting_summary\u001b[0m\u001b[0;34m(\u001b[0m\u001b[0;34m)\u001b[0m\u001b[0;34m)\u001b[0m\u001b[0;34m\u001b[0m\u001b[0;34m\u001b[0m\u001b[0m\n\u001b[0m",
      "\u001b[0;32m~/opt/miniconda3/envs/tmap/lib/python3.9/site-packages/t_map/hummus/hummus_score.py\u001b[0m in \u001b[0;36mtesting_summary\u001b[0;34m(self)\u001b[0m\n\u001b[1;32m    104\u001b[0m         return (f\"For k={self._k}, the scores we got were:\\n\",\n\u001b[1;32m    105\u001b[0m                 \u001b[0;34mf\"{scores}\\n\"\u001b[0m\u001b[0;34m,\u001b[0m\u001b[0;34m\u001b[0m\u001b[0;34m\u001b[0m\u001b[0m\n\u001b[0;32m--> 106\u001b[0;31m                 f\"Averaging out to f{sum(scores) / len(scores)}\")\n\u001b[0m",
      "\u001b[0;31mZeroDivisionError\u001b[0m: division by zero"
     ]
    }
   ],
   "source": [
    "for test_runner in runner.with_cv(\"LOO\"):\n",
    "\twith test_runner as (disease_genes, graph, fn):\n",
    "\t\tpredictions = model(disease_genes, graph)\n",
    "\t\tfn(predictions)\n",
    "\t\t\n",
    "print(scoring.testing_summary())\n"
   ]
  },
  {
   "cell_type": "code",
   "execution_count": null,
   "metadata": {},
   "outputs": [],
   "source": []
  }
 ],
 "metadata": {
  "interpreter": {
   "hash": "417f5e5ea2cd51ce4bffcd7de8d17c1fde928caced1d14fda8c653e2127aec2c"
  },
  "kernelspec": {
   "name": "python395jvsc74a57bd085c09f9f7fe78075207fbfc843a7e69e47817615a41a056623d34385f36bfb54",
   "display_name": "Python 3.9.5 64-bit ('tmap': conda)"
  },
  "language_info": {
   "codemirror_mode": {
    "name": "ipython",
    "version": 3
   },
   "file_extension": ".py",
   "mimetype": "text/x-python",
   "name": "python",
   "nbconvert_exporter": "python",
   "pygments_lexer": "ipython3",
   "version": "3.9.5"
  },
  "orig_nbformat": 4,
  "metadata": {
   "interpreter": {
    "hash": "85c09f9f7fe78075207fbfc843a7e69e47817615a41a056623d34385f36bfb54"
   }
  }
 },
 "nbformat": 4,
 "nbformat_minor": 2
}