{
 "cells": [
  {
   "cell_type": "code",
   "execution_count": null,
   "metadata": {},
   "outputs": [],
   "source": [
    "from t_map.garbanzo.huri import Huri\n",
    "\n",
    "data = Huri(\"../data/alzheimers\")"
   ]
  }
 ],
 "metadata": {
  "interpreter": {
   "hash": "417f5e5ea2cd51ce4bffcd7de8d17c1fde928caced1d14fda8c653e2127aec2c"
  },
  "kernelspec": {
   "display_name": "Python 3.9.5 64-bit ('tmap': conda)",
   "name": "python3"
  },
  "language_info": {
   "name": "python",
   "version": ""
  },
  "orig_nbformat": 4
 },
 "nbformat": 4,
 "nbformat_minor": 2
}