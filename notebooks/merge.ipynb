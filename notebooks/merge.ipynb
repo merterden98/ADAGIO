{
 "cells": [
  {
   "cell_type": "code",
   "execution_count": 1,
   "source": [
    "from t_map.garbanzo.huri import Huri\n",
    "from t_map.garbanzo.stringdb import StringDB\n",
    "from t_map.garbanzo.merge import merge\n",
    "\n",
    "huri = Huri(\"../data/alzheimers\", with_hugo=True)\n",
    "stringdb = StringDB(\"../data/alzheimers\")\n",
    "merged = merge([stringdb, huri])\n",
    "print(merged)"
   ],
   "outputs": [
    {
     "output_type": "stream",
     "name": "stdout",
     "text": [
      "<t_map.garbanzo.merge.MergedGarbanzo object at 0x7f8de231b070>\n"
     ]
    }
   ],
   "metadata": {}
  },
  {
   "cell_type": "code",
   "execution_count": 3,
   "source": [
    "edges = merged.graph.edges(data=True)\n",
    "e_list = list(edges)"
   ],
   "outputs": [],
   "metadata": {}
  },
  {
   "cell_type": "code",
   "execution_count": 5,
   "source": [
    "print(e_list[0:30])"
   ],
   "outputs": [
    {
     "output_type": "stream",
     "name": "stdout",
     "text": [
      "[('ARF5', 'CYP51A1', {'weight': 107.0}), ('ARF5', 'BAIAP2L1', {'weight': 262.0}), ('ARF5', 'OSBPL7', {'weight': 147.0}), ('ARF5', 'CAMK1G', {'weight': 180.0}), ('ARF5', 'PPP5C', {'weight': 164.0}), ('ARF5', 'RALBP1', {'weight': 157.0}), ('ARF5', 'PSD', {'weight': 236.0}), ('ARF5', 'VAMP3', {'weight': 171.0}), ('ARF5', 'ARHGEF5', {'weight': 192.0}), ('ARF5', 'PKP2', {'weight': 131.0}), ('ARF5', 'GNA11', {'weight': 217.0}), ('ARF5', 'TRIB2', {'weight': 133.0}), ('ARF5', 'ACAP1', {'weight': 203.0}), ('ARF5', 'CTTNBP2', {'weight': 157.0}), ('ARF5', 'KIF22', {'weight': 132.0}), ('ARF5', 'PRSS22', {'weight': 176.0}), ('ARF5', 'GOLGA5', {'weight': 179.0}), ('ARF5', 'BCL3', {'weight': 193.0}), ('ARF5', 'EPHA8', {'weight': 159.0}), ('ARF5', 'KEAP1', {'weight': 183.0}), ('ARF5', 'MAP2K5', {'weight': 206.0}), ('ARF5', 'CDK13', {'weight': 141.0}), ('ARF5', 'HSPB11', {'weight': 139.0}), ('ARF5', 'DIMT1', {'weight': 203.0}), ('ARF5', 'RALGAPA2', {'weight': 188.0}), ('ARF5', 'CDC6', {'weight': 201.0}), ('ARF5', 'MAPK13', {'weight': 177.0}), ('ARF5', 'STX1B', {'weight': 164.0}), ('ARF5', 'CDC34', {'weight': 156.0}), ('ARF5', 'MAPK12', {'weight': 177.0})]\n"
     ]
    }
   ],
   "metadata": {}
  }
 ],
 "metadata": {
  "orig_nbformat": 4,
  "language_info": {
   "name": "python",
   "version": "3.9.5",
   "mimetype": "text/x-python",
   "codemirror_mode": {
    "name": "ipython",
    "version": 3
   },
   "pygments_lexer": "ipython3",
   "nbconvert_exporter": "python",
   "file_extension": ".py"
  },
  "kernelspec": {
   "name": "python3",
   "display_name": "Python 3.9.5 64-bit ('tmap': conda)"
  },
  "interpreter": {
   "hash": "417f5e5ea2cd51ce4bffcd7de8d17c1fde928caced1d14fda8c653e2127aec2c"
  }
 },
 "nbformat": 4,
 "nbformat_minor": 2
}