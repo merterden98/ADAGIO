{
 "cells": [
  {
   "cell_type": "code",
   "execution_count": 1,
   "source": [
    "from t_map.garbanzo.huri import Huri\n",
    "from t_map.hummus.hummus import Hummus\n",
    "from t_map.hummus.hummus_score import HummusScore, ScoreTypes\n",
    "from t_map.feta.randomwalk import RandomWalkWithRestart\n",
    "from t_map.garbanzo.stringdb import StringDB\n",
    "from t_map.garbanzo.merge import merge\n",
    "\n",
    "\n",
    "\n",
    "data = Huri(\"../data/alzheimers\", with_hugo=True)\n",
    "data2 = StringDB(\"../data/alzheimers\")\n",
    "merged = merge([data, data2])\n",
    "config = {\n",
    "\t\"alpha\": 0.85,\n",
    "\t\"k\": len(data.graph.nodes()),\n",
    "}\n",
    "scoring = HummusScore(score_type=ScoreTypes.TOP_K, k=config[\"k\"])\n",
    "runner = Hummus(merged, with_scoring=scoring)\n",
    "model = RandomWalkWithRestart(alpha=config[\"alpha\"])"
   ],
   "outputs": [
    {
     "output_type": "stream",
     "name": "stdout",
     "text": [
      "999.0\n",
      "1\n"
     ]
    }
   ],
   "metadata": {}
  },
  {
   "cell_type": "code",
   "execution_count": 2,
   "source": [
    "for i, test_runner in enumerate(runner.with_cv(k_fold=\"LOO\")):\n",
    "\twith test_runner as (disease_genes, graph, fn):\n",
    "\t\tpredictions = model(disease_genes, graph)\n",
    "\t\tfn(predictions)\n"
   ],
   "outputs": [],
   "metadata": {}
  },
  {
   "cell_type": "code",
   "execution_count": 3,
   "source": [
    "\n",
    "scoring.compute_roc()\n",
    "auc = scoring.auc_roc(threshold=0.3)\n",
    "print(auc)\n",
    "\n",
    "#print(scoring._testing_scores[0])"
   ],
   "outputs": [
    {
     "output_type": "error",
     "ename": "AttributeError",
     "evalue": "'HummusScore' object has no attribute 'auc_roc'",
     "traceback": [
      "\u001b[0;31m---------------------------------------------------------------------------\u001b[0m",
      "\u001b[0;31mAttributeError\u001b[0m                            Traceback (most recent call last)",
      "\u001b[0;32m<ipython-input-3-df8d2c40b15a>\u001b[0m in \u001b[0;36m<module>\u001b[0;34m\u001b[0m\n\u001b[1;32m      1\u001b[0m \u001b[0mscoring\u001b[0m\u001b[0;34m.\u001b[0m\u001b[0mcompute_roc\u001b[0m\u001b[0;34m(\u001b[0m\u001b[0;34m)\u001b[0m\u001b[0;34m\u001b[0m\u001b[0;34m\u001b[0m\u001b[0m\n\u001b[0;32m----> 2\u001b[0;31m \u001b[0mauc\u001b[0m \u001b[0;34m=\u001b[0m \u001b[0mscoring\u001b[0m\u001b[0;34m.\u001b[0m\u001b[0mauc_roc\u001b[0m\u001b[0;34m(\u001b[0m\u001b[0mthreshold\u001b[0m\u001b[0;34m=\u001b[0m\u001b[0;36m0.3\u001b[0m\u001b[0;34m)\u001b[0m\u001b[0;34m\u001b[0m\u001b[0;34m\u001b[0m\u001b[0m\n\u001b[0m\u001b[1;32m      3\u001b[0m \u001b[0mprint\u001b[0m\u001b[0;34m(\u001b[0m\u001b[0mauc\u001b[0m\u001b[0;34m)\u001b[0m\u001b[0;34m\u001b[0m\u001b[0;34m\u001b[0m\u001b[0m\n\u001b[1;32m      4\u001b[0m \u001b[0;34m\u001b[0m\u001b[0m\n\u001b[1;32m      5\u001b[0m \u001b[0;31m#print(scoring._testing_scores[0])\u001b[0m\u001b[0;34m\u001b[0m\u001b[0;34m\u001b[0m\u001b[0;34m\u001b[0m\u001b[0m\n",
      "\u001b[0;31mAttributeError\u001b[0m: 'HummusScore' object has no attribute 'auc_roc'"
     ]
    }
   ],
   "metadata": {}
  },
  {
   "cell_type": "code",
   "execution_count": 19,
   "source": [
    "points  = scoring._roc\n",
    "import matplotlib.pyplot as plt\n",
    "# Plot the ROC curve using points in matplotlib.\n",
    "plt.plot(list(map(lambda x: x[1], points)), list(map(lambda x: x[0], points)))\n",
    "plt.xlabel(\"False Positive Rate\")\n",
    "plt.ylabel(\"True Positive Rate\")\n",
    "plt.title(\"ROC Curve for RWR\")\n",
    "plt.show()"
   ],
   "outputs": [
    {
     "output_type": "display_data",
     "data": {
      "text/plain": [
       "<Figure size 432x288 with 1 Axes>"
      ],
      "image/png": "[encoded data removed]"
     },
     "metadata": {
      "needs_background": "light"
     }
    }
   ],
   "metadata": {}
  }
 ],
 "metadata": {
  "orig_nbformat": 4,
  "language_info": {
   "name": "python",
   "version": "3.9.5",
   "mimetype": "text/x-python",
   "codemirror_mode": {
    "name": "ipython",
    "version": 3
   },
   "pygments_lexer": "ipython3",
   "nbconvert_exporter": "python",
   "file_extension": ".py"
  },
  "kernelspec": {
   "name": "python3",
   "display_name": "Python 3.9.5 64-bit ('tmap': conda)"
  },
  "interpreter": {
   "hash": "417f5e5ea2cd51ce4bffcd7de8d17c1fde928caced1d14fda8c653e2127aec2c"
  }
 },
 "nbformat": 4,
 "nbformat_minor": 2
}